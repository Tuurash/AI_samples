{
  "nbformat": 4,
  "nbformat_minor": 0,
  "metadata": {
    "colab": {
      "provenance": [],
      "include_colab_link": true
    },
    "kernelspec": {
      "name": "python3",
      "display_name": "Python 3"
    },
    "accelerator": "GPU"
  },
  "cells": [
    {
      "cell_type": "markdown",
      "metadata": {
        "id": "view-in-github",
        "colab_type": "text"
      },
      "source": [
        "<a href=\"https://colab.research.google.com/github/Tuurash/AI_samples/blob/master/3d_ken_burns.ipynb\" target=\"_parent\"><img src=\"https://colab.research.google.com/assets/colab-badge.svg\" alt=\"Open In Colab\"/></a>"
      ]
    },
    {
      "cell_type": "code",
      "metadata": {
        "id": "QZwKWpRc2TGW",
        "colab": {
          "base_uri": "https://localhost:8080/"
        },
        "outputId": "b7d02cab-a8a9-4e2f-9f61-f258627c11e5"
      },
      "source": [
        "!git clone https://github.com/sniklaus/3d-ken-burns.git"
      ],
      "execution_count": 2,
      "outputs": [
        {
          "output_type": "stream",
          "name": "stdout",
          "text": [
            "fatal: destination path '3d-ken-burns' already exists and is not an empty directory.\n"
          ]
        }
      ]
    },
    {
      "cell_type": "code",
      "metadata": {
        "id": "xJLaLEZv2e0n",
        "colab": {
          "base_uri": "https://localhost:8080/"
        },
        "outputId": "4cd668ca-5b26-4800-fea4-6a29754487b3"
      },
      "source": [
        "%cd 3d-ken-burns"
      ],
      "execution_count": 3,
      "outputs": [
        {
          "output_type": "stream",
          "name": "stdout",
          "text": [
            "/content/3d-ken-burns\n"
          ]
        }
      ]
    },
    {
      "cell_type": "code",
      "metadata": {
        "id": "WVz5dq5o2hcU",
        "colab": {
          "base_uri": "https://localhost:8080/"
        },
        "outputId": "55c12b70-b27d-4a11-85bb-96224553aaaa"
      },
      "source": [
        "!bash download.bash"
      ],
      "execution_count": 4,
      "outputs": [
        {
          "output_type": "stream",
          "name": "stdout",
          "text": [
            "bash: download.bash: No such file or directory\n"
          ]
        }
      ]
    },
    {
      "cell_type": "code",
      "metadata": {
        "id": "8Mj7g-me2jOT"
      },
      "source": [
        "!pip install cupy moviepy gevent"
      ],
      "execution_count": null,
      "outputs": []
    },
    {
      "cell_type": "code",
      "metadata": {
        "id": "ADhVDsfU2o8e"
      },
      "source": [
        "%env CUDA_HOME=/usr/local/cuda"
      ],
      "execution_count": null,
      "outputs": []
    },
    {
      "cell_type": "code",
      "metadata": {
        "id": "xkyR-jX2daub"
      },
      "source": [
        "!python autozoom.py --in ./images/doublestrike.jpg --out ./images/autozoom.mp4"
      ],
      "execution_count": null,
      "outputs": []
    }
  ]
}